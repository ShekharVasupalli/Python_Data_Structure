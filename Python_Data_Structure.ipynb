{
 "cells": [
  {
   "cell_type": "markdown",
   "id": "f3a166c0-4e43-47b0-ae63-0aaf3089cf05",
   "metadata": {},
   "source": [
    "Q1) Discuss string slicing and provide examples.\n",
    "\n",
    "Ans) String slicing is a method used to slice a string from a parent string by indexing it's location, slicing creates a new string by not changing the parent string. It works on this format i.e [start : stop : step].\n",
    "\n",
    ":- start index - it is inclusive, by default it starts from beginning of the slice.\n",
    "\n",
    ":- stop index - it is exculsive, if a index is given it basically follows like index -1 rule i.e it prints one step before the indexed number. but by      default it prints till end of the sclice.\n",
    "\n",
    ":- step index - it skips the number of steps given, by default it takes 1 as a step size.\n",
    "Given below is a example of string slicing."
   ]
  },
  {
   "cell_type": "code",
   "execution_count": 1,
   "id": "b8af2b7a-03c4-4fd5-88f4-16183dbfe396",
   "metadata": {},
   "outputs": [
    {
     "name": "stdout",
     "output_type": "stream",
     "text": [
      "eifell tower is located in paris\n",
      "ee w  ceipi ae\n",
      "ecnarf ,sirap ni detacol si rewot llefie\n",
      "eifell tower is located in paris, france\n"
     ]
    }
   ],
   "source": [
    "para = (\"eifell tower is located in paris, france\")\n",
    "slice1 = para[0:32:1]  #indexed string slicing.\n",
    "slice2 = para[::3]     #by default takes starting and ending value and skips given step size of value 2.\n",
    "slice3 = para[::-1]    #step count negative indexing represents reverse order.  \n",
    "print(slice1)\n",
    "print(slice2)\n",
    "print(slice3)\n",
    "print(para)            #resembels their is no change in parent string. "
   ]
  },
  {
   "cell_type": "markdown",
   "id": "0c4825fd-0578-450b-ac5a-16d825546ed0",
   "metadata": {},
   "source": [
    "Q2) Explain the key features of lists in python.\n",
    "\n",
    "Ans) Some key feature points of lists.\n",
    "\n",
    ":- list compprehensions is supported which reduces the line of code and improves readability of the code.\n",
    "\n",
    ":- lists are mutable.\n",
    "\n",
    ":- lists store data in a ordered manner following the indexing 0 to n index.\n",
    "\n",
    ":- it supports dynamic size means it adjusts memory space according to push or pop of elements in list.\n",
    "\n",
    ":- it is hetrogeneous, it stores every type of data including lists inside list.\n",
    "\n",
    ":- it suppports various in-build methods which helps like in adding, removing, sorting of list.\n",
    "\n",
    ":- it supports iterations.\n"
   ]
  },
  {
   "cell_type": "code",
   "execution_count": 2,
   "id": "a917a04d-454e-43d1-b6ea-f5846761c8c7",
   "metadata": {},
   "outputs": [
    {
     "name": "stdout",
     "output_type": "stream",
     "text": [
      "#adding and removing elements.\n",
      "['toyota', 'lexus', 'daihatsu', 'general motors', 'chevrolet', 'cadillac']\n",
      "_______________________________\n",
      "#accessing elements.\n",
      "parent company-1 is : \t toyota\n",
      "parent company-2 is : \t general motors\n",
      "_______________________________\n",
      "#slicing elements.\n",
      "['toyota', 'lexus', 'daihatsu']\n",
      "['toyota', 'lexus', 'daihatsu', 'general motors', 'chevrolet', 'cadillac']\n",
      "_______________________________\n",
      "#iterating elements.\n",
      "toyota\n",
      "lexus\n",
      "daihatsu\n",
      "general motors\n",
      "chevrolet\n",
      "cadillac\n",
      "_______________________________\n",
      "#list comprehension.\n"
     ]
    },
    {
     "name": "stdin",
     "output_type": "stream",
     "text": [
      "Enter a number:  559\n"
     ]
    },
    {
     "name": "stdout",
     "output_type": "stream",
     "text": [
      "559: is not prime number\n"
     ]
    }
   ],
   "source": [
    "car_names = [\"toyota\", \"lexus\", \"daihatsu\", \"general motors\", \"chevrolet\"]\n",
    "\n",
    "print(\"#adding and removing elements.\")\n",
    "#adding elements.\n",
    "car_names.insert(3, \"cycle\")\n",
    "car_names.insert(4,\"bike\")\n",
    "car_names.append(\"cadillac\")\n",
    "\n",
    "#removing elements.\n",
    "car_names.remove(\"cycle\")\n",
    "removed_name = car_names.pop(3)\n",
    "print(car_names)\n",
    "print(\"_______________________________\")\n",
    "\n",
    "print(\"#accessing elements.\")\n",
    "parent_company1 = car_names[0]\n",
    "parent_company2 = car_names[3]\n",
    "print(\"parent company-1 is : \\t\", parent_company1)\n",
    "print(\"parent company-2 is : \\t\", parent_company2)\n",
    "print(\"_______________________________\")\n",
    "\n",
    "print(\"#slicing elements.\")\n",
    "sliced_names = car_names[0:3]\n",
    "print(sliced_names)\n",
    "print(car_names) #slicing creates new sub-list and enables to access indexed elements thus not affecting the parent list.\n",
    "print(\"_______________________________\")\n",
    "\n",
    "print(\"#iterating elements.\")\n",
    "for i in car_names:\n",
    "    print(i) # iteration repeatedly performs set of instructions on each element in a sequence.\n",
    "print(\"_______________________________\")\n",
    "\n",
    "print(\"#list comprehension.\")\n",
    "num = int(input(\"Enter a number: \"))\n",
    "is_prime = num > 1 and all(num % i != 0 for i in range(2,int(num**0.5) +1))\n",
    "if is_prime:\n",
    "    print(f\"{num}: is a prime number\")\n",
    "else:\n",
    "    print(f\"{num}: is not prime number\")\n"
   ]
  },
  {
   "cell_type": "markdown",
   "id": "7ab6e977-c033-4ca6-a103-762fc29328d8",
   "metadata": {},
   "source": [
    "Q3) Describe how to access, modify, and delete elements in a list with examples.\n",
    "\n",
    "Ans) Lists are mutable so we can access, modifiy and delete elements in list following are the examples.\n",
    "accessing- can be accessed using indexing where start index is inclusive and end index is exclusive."
   ]
  },
  {
   "cell_type": "code",
   "execution_count": 3,
   "id": "f2d3b68b-5387-4d3d-b503-b78c9fbec3bb",
   "metadata": {},
   "outputs": [
    {
     "name": "stdout",
     "output_type": "stream",
     "text": [
      "# accessing the elements\n",
      "['sunday', 'monday', 'tuesday', 'wednesday']\n",
      "['sunday', 'tuesday']\n",
      "#modifying----------------------\n",
      "['sunday-1', 'monday-2', 'tuesday-3', 'wednesday-4', 'thrusday-5', 'friday-6', 'saturday-7', 'saturday-7', 'holiday']\n",
      "#deleting elements----------------------\n",
      "[]\n"
     ]
    }
   ],
   "source": [
    "print(\"# accessing the elements\")\n",
    "weeks = [\"sunday\", \"monday\", \"tuesday\", \"wednesday\", \"thrusday\"]\n",
    "print(weeks[0:4]) #accessing the list week using indexing.\n",
    "print(weeks[0:4:2])#using slicing.\n",
    "#########################################\n",
    "print(\"#modifying----------------------\")\n",
    "weeks[:] = [\"sunday-1\", \"monday-2\", \"tuesday-3\", \"wednesday-4\", \"thrusday-5\", \"friday-6\", \"saturday-7\"]\n",
    "weeks.append(\"saturday-7\")\n",
    "weeks.insert(8, \"holiday\")\n",
    "print(weeks)\n",
    "#########################################\n",
    "print(\"#deleting elements----------------------\")\n",
    "weeks.pop(0)\n",
    "weeks.remove(\"monday-2\")\n",
    "del weeks[0:6]\n",
    "weeks.clear()\n",
    "print(weeks)\n",
    "#########################################\n"
   ]
  },
  {
   "cell_type": "markdown",
   "id": "3e71f4fe-d890-448b-9779-4b237c1c5521",
   "metadata": {},
   "source": [
    "Q4) compare and contrast tuples and list with examples.\n",
    "\n",
    "Ans) tuples and list have some key differences. Both have their own advantages, it's implementation depends on specific use case\n",
    "Tuples:\n",
    "    \n",
    "    Tuples are immutable.\n",
    "    \n",
    "    Tuples are static array.\n",
    "    \n",
    "    Tuples use () brackets.\n",
    "    \n",
    "    fewer build-in functions.\n",
    "    \n",
    "    Tuples are faster and uses less memory.\n",
    "\n",
    "List:\n",
    "    \n",
    "    Lists are mutable.\n",
    "    \n",
    "    Lists are dynamic array.\n",
    "    \n",
    "    Lists uses [] brackets.\n",
    "    \n",
    "    more build in functions.\n",
    "    \n",
    "    Lists are slow and uses more memory."
   ]
  },
  {
   "cell_type": "code",
   "execution_count": 38,
   "id": "4b734827-aaa6-4000-b6b8-d09761ebc717",
   "metadata": {},
   "outputs": [
    {
     "name": "stdout",
     "output_type": "stream",
     "text": [
      "# Example of tuple.\n",
      "('apple', 'banana')\n",
      "('pista', 'flex seeds', 'cashew')\n",
      "--------------some examples of list--------------\n",
      "['apple', 'orange', 'kiwi', 'cherry', '1-zebra melon']\n",
      "[]\n",
      "['1-zebra melon', 'apple', 'cherry', 'kiwi', 'orange']\n"
     ]
    }
   ],
   "source": [
    "print(\"# Example of tuple.\")\n",
    "tuple_names = (\"apple\", \"orange\", \"banana\", \"kiwi\",(\"pista\", \"flex seeds\", \"cashew\")) #tuple inside tuple.\n",
    "print(tuple_names[0:4:2])\n",
    "print(tuple_names[-1])\n",
    "#####################################\n",
    "print(\"--------------some examples of list--------------\")\n",
    "list_names = [\"apple\", \"orange\", \"banana\", \"kiwi\", \"1-zebra melon\"] # list supports tuple inside a list but only can be read not write.\n",
    "list_names.insert(4, \"cherry\")\n",
    "list_names.pop(2)\n",
    "print(list_names)\n",
    "copy_list = list_names.copy() # .copy function creates a new address and does not affect parent list.\n",
    "copy_list.clear() \n",
    "print(copy_list)\n",
    "list_names.sort()\n",
    "print(list_names) # sorts elements inside list in alphanumeric order."
   ]
  },
  {
   "cell_type": "markdown",
   "id": "00cd2695-f349-4000-be3c-59f6622219c6",
   "metadata": {},
   "source": [
    "Q5) Describe the key features of sets and provide examples of their use.\n",
    "\n",
    "Ans) key features:\n",
    "\n",
    ":- sets are mutable.\n",
    "\n",
    ":- unique element, no duplications by taking only first one from duplicated value\n",
    "\n",
    ":- supports standard operation like union, intersection, difference, and symmetric difference.\n",
    "\n",
    ":- sets are unordered.\n",
    "\n",
    ":- although set is mutable but elements are immutable, functions like add(), remove(), union() is supported but once an item is created it                 cannot be changed.\n",
    "\n",
    ":- there is a immutable version of set called frozenset which cannot be modified once it is created."
   ]
  },
  {
   "cell_type": "code",
   "execution_count": 136,
   "id": "ee827328-30ab-4838-bf48-075b78c0ed2a",
   "metadata": {},
   "outputs": [
    {
     "name": "stdout",
     "output_type": "stream",
     "text": [
      "{1, 2, 3, 4, 'a', 5, 'b', 'c'}\n",
      "{1, 2, 3, 'a', 5, 'b', 12, 'c'}\n",
      "_______________________________________________________\n",
      "{50, 20, 40, 10, 30}\n",
      "{30}\n",
      "{10, 20}\n",
      "{40, 10, 50, 20}\n",
      "_______________________________________________________\n",
      "{2, 4, 6, 8, 10}\n",
      "_______________________________________________________\n",
      "frozenset({40, 10, 50, 20, 30})\n"
     ]
    }
   ],
   "source": [
    "sample_set = {1, \"a\",2 ,2,3,3,4,4,4,5, \"b\",3 ,\"c\" , 4} \n",
    "print(sample_set) #removes duplicate data and prints unordered sample_set.\n",
    "sample_set.add(12)\n",
    "sample_set.remove(4) #shows set mutablity\n",
    "print(sample_set)\n",
    "\n",
    "print(\"_______________________________________________________\")\n",
    "\n",
    "a = {10, 20, 30, 30}\n",
    "b = {30, 40, 50}\n",
    "#union\n",
    "print(a | b)\n",
    "#intersection\n",
    "print(a & b)\n",
    "#difference\n",
    "print(a - b)\n",
    "#symmetric difference\n",
    "print(a ^ b)\n",
    "\n",
    "print(\"_______________________________________________________\")\n",
    "# example of membership testing.\n",
    "numbers = [1, 2, 3, 4, 5, 6, 7, 8, 9, 10]\n",
    "even_numbers_set = {2, 4, 6, 8, 10}\n",
    "filtered_set = {num for num in numbers if num in even_numbers_set}\n",
    "print(filtered_set)\n",
    "\n",
    "\n",
    "print(\"_______________________________________________________\")\n",
    "#example for frozenset\n",
    "my_frozenset = frozenset([10,20,30,40,50]) # it does not support to make any changes.\n",
    "print(my_frozenset)\n",
    "\n",
    "# immutable set example.\n",
    "# my_set = {1,2,3,4,{5,6,7,8}} # if printed shows unhashable error because set within set or list within a set is not supported.\n",
    "# print(my_set)"
   ]
  },
  {
   "cell_type": "markdown",
   "id": "18280372-39b3-4214-bc19-18c2a3a2b5c0",
   "metadata": {},
   "source": [
    "Q6) Discuss the use cases of tuples and sets in python programming.\n",
    "\n",
    "Ans) Tuples use cases:-\n",
    "\n",
    "\n",
    ":- tuples support fixed collection of data so, if we have any value that should not change through out the progrsm the tuples are idel to be used.\n",
    "\n",
    ":- tuples return multiple values from function which allows to group relsted vslues together.\n",
    "\n",
    ":- as tuples are hasable so they can be used as keys in dicitionaries.\n",
    "\n",
    ":- tuples are immutable so they can be used like for a value which is intented to not to be changed through out the program for example like 'caches'.\n",
    "\n",
    ":- tuples are used to pack multiple values together and then unoack them into variables, which helps in building a concise code.\n",
    "\n",
    "Sets use cases:-\n",
    "\n",
    "\n",
    ":- since sets automatically store unique elements, they auutomatically delete duplicates.\n",
    "\n",
    ":- sets are optimized for membership testing, i.e checking whether an element is present or not.\n",
    "\n",
    ":- sets support mathematical set operations like union, difference, intersection and symmetric difference which is useful in data manipulation and         mathematical tasks.\n",
    "\n",
    ":- sets are also used to efficiently filter data based on membership, which helps in removing not necessary elements or cross-referencing datasets."
   ]
  },
  {
   "cell_type": "code",
   "execution_count": 184,
   "id": "d1bda58d-6037-47d4-b586-60af21245ec3",
   "metadata": {},
   "outputs": [
    {
     "name": "stdout",
     "output_type": "stream",
     "text": [
      "name is:  rahul\n",
      "age is:  21\n",
      "profession is:  student\n",
      "name and age is:  ('rakesh', 20)\n",
      "_____________________\n",
      "{1, 2, 3, 4, 5, 6, 7}\n",
      "5 is required.\n",
      "{1, 2, 3, 4, 5, 6, 7, 8}\n"
     ]
    }
   ],
   "source": [
    "# tuples example.\n",
    "# here tuples return multiple values from functions.\n",
    "def get_users_data():\n",
    "    return \"rahul\", 21, \"student\"\n",
    "name, age, profession = get_users_data()\n",
    "print(\"name is: \", name)\n",
    "print(\"age is: \", age)\n",
    "print(\"profession is: \", profession)\n",
    "\n",
    "# here we pack and unpack multiple values in tuple.\n",
    "data = (\"rakesh\", 20)\n",
    "name,age = data\n",
    "print(\"name and age is: \", data)\n",
    "\n",
    "print(\"_____________________\")\n",
    "\n",
    "#sets example.\n",
    "#removing duplicates\n",
    "numbers = {1,2,3,4,5,5,5,6,6,6,7}\n",
    "unique_numbers = set(numbers)\n",
    "print (numbers)\n",
    "\n",
    "#membership testing\n",
    "\n",
    "required_numbers = {1,2,3,4,5}\n",
    "number = 5\n",
    "if number in required_numbers:\n",
    "    print(f\"{number} is required.\")\n",
    "else:\n",
    "    print(f\"{number} is not required.\")\n",
    "\n",
    "# mathematical set operation.\n",
    "\n",
    "set_a = {1,2,3,4,5}\n",
    "set_b = {4,5,6,7,8}\n",
    "union_set = set_a | set_b\n",
    "print(union_set)\n",
    "\n",
    "\n"
   ]
  },
  {
   "cell_type": "markdown",
   "id": "8f65f1c5-f587-4786-82a7-fa10aad72700",
   "metadata": {},
   "source": [
    "Q7) Describe how to add, modify, and delete items in a dictionary with examples.\n",
    "\n",
    "Ans) As dictionary is mutable data type which stores data in a key-value pair we can add, modify and delete items in it. eg:-"
   ]
  },
  {
   "cell_type": "code",
   "execution_count": 200,
   "id": "cb2f693c-d7f9-44ce-b14a-1335753388a9",
   "metadata": {},
   "outputs": [
    {
     "name": "stdout",
     "output_type": "stream",
     "text": [
      "{'name': 'Mukesh', 'age': 67, 'city': 'Mumbai'}\n",
      "{'name': 'Mukesh', 'age': 64, 'city': 'United Kingdome'}\n",
      "{}\n"
     ]
    }
   ],
   "source": [
    "# adding items.\n",
    "person = {\"name\" : \"Mukesh\"}\n",
    "person[\"age\"] = 67\n",
    "person[\"city\"] = \"Mumbai\"\n",
    "print(person)\n",
    "# modifying items.\n",
    "person[\"age\"] = 64\n",
    "person[\"city\"] = \"United Kingdome\"\n",
    "print(person)\n",
    "#deleting data\n",
    "del person[\"city\"]\n",
    "age = person.pop(\"age\")\n",
    "person.clear()\n",
    "print(person)\n"
   ]
  },
  {
   "cell_type": "markdown",
   "id": "1d73fcde-732e-4b97-a397-de3e4387afc2",
   "metadata": {},
   "source": [
    "Q8) Discuss the importance of dictionary keys being immutable and provide examples.\n",
    "\n",
    "Ans)importance of dictionary keys being immutable are:- \n",
    "\n",
    ":- the immutability of dictionaries keys is essential for maintaining the efficiency, consistency, and reliability of dictionary operations.\n",
    "\n",
    ":- Dictionary keys must be immutable because python uses a hash function to map keys to values efficiently. immutable keys ensure a consistent hash        value, which is important for quick lookups.\n",
    "\n",
    ":- immutability ensures that once a key is added to a dictionary, it consistently refers to the same value. maintaining the dictionary's reliability.\n",
    "\n",
    ":- only immutable types are hashable like integers, strings, and tuples (until tuple elements are also immutable) and mutable data types like lists or     dictionaries can change even after creation so, they are not hashable hence not valid."
   ]
  },
  {
   "cell_type": "code",
   "execution_count": 230,
   "id": "2237d347-1157-49a2-bc11-798a63c35472",
   "metadata": {},
   "outputs": [
    {
     "name": "stdout",
     "output_type": "stream",
     "text": [
      "{1: 'first', 2: 'second', 3: 'third'}\n",
      "{'name': 'krish', 'age': 21, 'country': 'india'}\n",
      "cat,dog\n",
      "strawberry,kiwi\n"
     ]
    }
   ],
   "source": [
    "# using integers\n",
    "my_dict = {\n",
    "    1 : \"first\",\n",
    "    2 : \"second\",\n",
    "    3 : \"third\"\n",
    "}\n",
    "print(my_dict)\n",
    "\n",
    "#using strings\n",
    "my_dict = {\n",
    "    \"name\":\"krish\",\n",
    "    \"age\":21,\n",
    "    \"country\":\"india\"\n",
    "}\n",
    "print(my_dict)\n",
    "\n",
    "#using tuple\n",
    "my_dict = {\n",
    "    (1,2):\"apple,banana\",\n",
    "    (3,4):\"cat,dog\",\n",
    "    (5,6):\"elephant,fish\"\n",
    "}\n",
    "print(my_dict[(3,4)])\n",
    "my_dict[(7,8)] = \"strawberry,kiwi\"  \n",
    "print(my_dict[(7,8)])\n",
    "\n",
    "\n",
    "#shows error as mutable data type is used.\n",
    "#    my_list = [1,2,3,4]\n",
    "#    my_dict = {my_list}\n",
    "#    my_list.append(3)\n",
    "#    print (my_dict[my_list])"
   ]
  }
 ],
 "metadata": {
  "kernelspec": {
   "display_name": "Python 3 (ipykernel)",
   "language": "python",
   "name": "python3"
  },
  "language_info": {
   "codemirror_mode": {
    "name": "ipython",
    "version": 3
   },
   "file_extension": ".py",
   "mimetype": "text/x-python",
   "name": "python",
   "nbconvert_exporter": "python",
   "pygments_lexer": "ipython3",
   "version": "3.12.4"
  }
 },
 "nbformat": 4,
 "nbformat_minor": 5
}
